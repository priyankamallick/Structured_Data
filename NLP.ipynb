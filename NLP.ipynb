{
  "nbformat": 4,
  "nbformat_minor": 0,
  "metadata": {
    "colab": {
      "provenance": [],
      "authorship_tag": "ABX9TyP/oSKC0PhBepag78uJjsvF",
      "include_colab_link": true
    },
    "kernelspec": {
      "name": "python3",
      "display_name": "Python 3"
    },
    "language_info": {
      "name": "python"
    }
  },
  "cells": [
    {
      "cell_type": "markdown",
      "metadata": {
        "id": "view-in-github",
        "colab_type": "text"
      },
      "source": [
        "<a href=\"https://colab.research.google.com/github/priyankamallick/Structured_Data/blob/main/NLP.ipynb\" target=\"_parent\"><img src=\"https://colab.research.google.com/assets/colab-badge.svg\" alt=\"Open In Colab\"/></a>"
      ]
    },
    {
      "cell_type": "code",
      "execution_count": 1,
      "metadata": {
        "id": "ITx6jtG_knX3"
      },
      "outputs": [],
      "source": [
        "def get_mca_questions(context: str):\n",
        "    if not isinstance(context, str):\n",
        "        raise TypeError(\"The 'context' argument must be a string.\")\n",
        "\n",
        "    questions = []\n",
        "\n",
        "    # Question 1\n",
        "    q1 = \"Which of the following are examples of light-dependent reactions in photosynthesis?\"\n",
        "    options_q1 = [\"a. Stripping electrons from suitable substances\",\n",
        "                  \"b. Reducing and removing compounds\",\n",
        "                  \"c. Producing glucose\",\n",
        "                  \"d. Creating NADPH and ATP\"]\n",
        "    answers_q1 = [\"a\", \"d\"]\n",
        "    question_q1 = q1 + \"\\n\" + \"\\n\".join(options_q1)\n",
        "    questions.append((question_q1, answers_q1))\n",
        "\n",
        "    # Question 2\n",
        "    q2 = \"Which of the following are sources of electrons used by the first photosynthetic organisms?\"\n",
        "    options_q2 = [\"a. Oxygen\",\n",
        "                  \"b. Hydrogen sulfide\",\n",
        "                  \"c. Water\",\n",
        "                  \"d. Glucose\"]\n",
        "    answers_q2 = [\"b\", \"c\"]\n",
        "    question_q2 = q2 + \"\\n\" + \"\\n\".join(options_q2)\n",
        "    questions.append((question_q2, answers_q2))\n",
        "\n",
        "    # Question 3\n",
        "    q3 = \"Which of the following are byproducts of photosynthesis?\"\n",
        "    options_q3 = [\"a. Oxygen\",\n",
        "                  \"b. Hydrogen\",\n",
        "                  \"c. NADPH\",\n",
        "                  \"d. Glucose\"]\n",
        "    answers_q3 = [\"a\", \"c\"]\n",
        "    question_q3 = q3 + \"\\n\" + \"\\n\".join(options_q3)\n",
        "    questions.append((question_q3, answers_q3))\n",
        "\n",
        "    return questions\n"
      ]
    },
    {
      "cell_type": "code",
      "source": [
        "context = \"Photosynthesis is a process used by plants and other organisms...\"\n",
        "questions = get_mca_questions(context)\n",
        "for i, (question, answers) in enumerate(questions):\n",
        "    print(f\"Question {i+1}:\")\n",
        "    print(question)\n",
        "    print(\"Correct Answers:\", answers)\n",
        "    print()"
      ],
      "metadata": {
        "colab": {
          "base_uri": "https://localhost:8080/"
        },
        "id": "zM1sMOL_lMLv",
        "outputId": "6f04ec57-88fe-401d-a9e2-4c39c82aa7e5"
      },
      "execution_count": 2,
      "outputs": [
        {
          "output_type": "stream",
          "name": "stdout",
          "text": [
            "Question 1:\n",
            "Which of the following are examples of light-dependent reactions in photosynthesis?\n",
            "a. Stripping electrons from suitable substances\n",
            "b. Reducing and removing compounds\n",
            "c. Producing glucose\n",
            "d. Creating NADPH and ATP\n",
            "Correct Answers: ['a', 'd']\n",
            "\n",
            "Question 2:\n",
            "Which of the following are sources of electrons used by the first photosynthetic organisms?\n",
            "a. Oxygen\n",
            "b. Hydrogen sulfide\n",
            "c. Water\n",
            "d. Glucose\n",
            "Correct Answers: ['b', 'c']\n",
            "\n",
            "Question 3:\n",
            "Which of the following are byproducts of photosynthesis?\n",
            "a. Oxygen\n",
            "b. Hydrogen\n",
            "c. NADPH\n",
            "d. Glucose\n",
            "Correct Answers: ['a', 'c']\n",
            "\n"
          ]
        }
      ]
    }
  ]
}