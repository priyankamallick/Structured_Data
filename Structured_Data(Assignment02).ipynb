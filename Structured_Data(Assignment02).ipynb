{
  "nbformat": 4,
  "nbformat_minor": 0,
  "metadata": {
    "colab": {
      "provenance": [],
      "authorship_tag": "ABX9TyM8Cb9XZxfXJCPr4NX18gId",
      "include_colab_link": true
    },
    "kernelspec": {
      "name": "python3",
      "display_name": "Python 3"
    },
    "language_info": {
      "name": "python"
    }
  },
  "cells": [
    {
      "cell_type": "markdown",
      "metadata": {
        "id": "view-in-github",
        "colab_type": "text"
      },
      "source": [
        "<a href=\"https://colab.research.google.com/github/priyankamallick/Structured_Data/blob/main/Structured_Data(Assignment02).ipynb\" target=\"_parent\"><img src=\"https://colab.research.google.com/assets/colab-badge.svg\" alt=\"Open In Colab\"/></a>"
      ]
    },
    {
      "cell_type": "code",
      "source": [
        "import pandas as pd\n",
        "import numpy as np\n",
        "import matplotlib.pyplot as plt"
      ],
      "metadata": {
        "id": "KVNAYSDvNj5K"
      },
      "execution_count": null,
      "outputs": []
    },
    {
      "cell_type": "code",
      "source": [
        "!pip install pyarrow"
      ],
      "metadata": {
        "colab": {
          "base_uri": "https://localhost:8080/"
        },
        "id": "2S4cOZAlOBUp",
        "outputId": "f826bc09-b72f-4a9a-92c5-1284b8a8e6ad"
      },
      "execution_count": null,
      "outputs": [
        {
          "output_type": "stream",
          "name": "stdout",
          "text": [
            "Looking in indexes: https://pypi.org/simple, https://us-python.pkg.dev/colab-wheels/public/simple/\n",
            "Requirement already satisfied: pyarrow in /usr/local/lib/python3.10/dist-packages (9.0.0)\n",
            "Requirement already satisfied: numpy>=1.16.6 in /usr/local/lib/python3.10/dist-packages (from pyarrow) (1.22.4)\n"
          ]
        }
      ]
    },
    {
      "cell_type": "code",
      "source": [
        "train=pd.read_parquet('/content/train.parquet')"
      ],
      "metadata": {
        "id": "usBMBYZLOINS"
      },
      "execution_count": null,
      "outputs": []
    },
    {
      "cell_type": "code",
      "source": [
        "# Filter for \"Target Drug\" incidents only\n",
        "train_target = train[train['Incident'] == 'TARGET DRUG']\n",
        "\n",
        "# Extract the month from the date column\n",
        "train_target['Month'] = pd.to_datetime(train_target['Date']).dt.to_period('M')\n",
        "train_target"
      ],
      "metadata": {
        "colab": {
          "base_uri": "https://localhost:8080/"
        },
        "id": "asdmbUk8Om_6",
        "outputId": "cf7cc361-5c12-4d3e-9f42-a7ed7c5e4ce3"
      },
      "execution_count": null,
      "outputs": [
        {
          "output_type": "stream",
          "name": "stderr",
          "text": [
            "<ipython-input-41-4fed552b71d1>:5: SettingWithCopyWarning: \n",
            "A value is trying to be set on a copy of a slice from a DataFrame.\n",
            "Try using .loc[row_indexer,col_indexer] = value instead\n",
            "\n",
            "See the caveats in the documentation: https://pandas.pydata.org/pandas-docs/stable/user_guide/indexing.html#returning-a-view-versus-a-copy\n",
            "  train_target['Month'] = pd.to_datetime(train_target['Date']).dt.to_period('M')\n"
          ]
        },
        {
          "output_type": "execute_result",
          "data": {
            "text/plain": [
              "                                   Patient-Uid       Date     Incident  \\\n",
              "3294791   a0eb742b-1c7c-11ec-8f61-16262ee38c7f 2020-04-09  TARGET DRUG   \n",
              "3296990   a0edaf09-1c7c-11ec-a360-16262ee38c7f 2018-06-12  TARGET DRUG   \n",
              "3305387   a0e9fa0e-1c7c-11ec-8dc7-16262ee38c7f 2019-06-11  TARGET DRUG   \n",
              "3309423   a0ecc615-1c7c-11ec-aa31-16262ee38c7f 2019-11-15  TARGET DRUG   \n",
              "3309494   a0ea612f-1c7c-11ec-8cf0-16262ee38c7f 2020-03-18  TARGET DRUG   \n",
              "...                                        ...        ...          ...   \n",
              "29074998  a0ef2b6d-1c7c-11ec-9172-16262ee38c7f 2018-10-12  TARGET DRUG   \n",
              "29075105  a0ebe423-1c7c-11ec-a5e0-16262ee38c7f 2019-07-02  TARGET DRUG   \n",
              "29075494  a0ebc713-1c7c-11ec-bd53-16262ee38c7f 2019-05-21  TARGET DRUG   \n",
              "29080031  a0ee1bdb-1c7c-11ec-90ba-16262ee38c7f 2018-06-07  TARGET DRUG   \n",
              "29080178  a0eef180-1c7c-11ec-8de8-16262ee38c7f 2018-07-17  TARGET DRUG   \n",
              "\n",
              "            Month  \n",
              "3294791   2020-04  \n",
              "3296990   2018-06  \n",
              "3305387   2019-06  \n",
              "3309423   2019-11  \n",
              "3309494   2020-03  \n",
              "...           ...  \n",
              "29074998  2018-10  \n",
              "29075105  2019-07  \n",
              "29075494  2019-05  \n",
              "29080031  2018-06  \n",
              "29080178  2018-07  \n",
              "\n",
              "[67218 rows x 4 columns]"
            ],
            "text/html": [
              "\n",
              "  <div id=\"df-30565d34-0227-4b19-a7ba-572f2b51c481\">\n",
              "    <div class=\"colab-df-container\">\n",
              "      <div>\n",
              "<style scoped>\n",
              "    .dataframe tbody tr th:only-of-type {\n",
              "        vertical-align: middle;\n",
              "    }\n",
              "\n",
              "    .dataframe tbody tr th {\n",
              "        vertical-align: top;\n",
              "    }\n",
              "\n",
              "    .dataframe thead th {\n",
              "        text-align: right;\n",
              "    }\n",
              "</style>\n",
              "<table border=\"1\" class=\"dataframe\">\n",
              "  <thead>\n",
              "    <tr style=\"text-align: right;\">\n",
              "      <th></th>\n",
              "      <th>Patient-Uid</th>\n",
              "      <th>Date</th>\n",
              "      <th>Incident</th>\n",
              "      <th>Month</th>\n",
              "    </tr>\n",
              "  </thead>\n",
              "  <tbody>\n",
              "    <tr>\n",
              "      <th>3294791</th>\n",
              "      <td>a0eb742b-1c7c-11ec-8f61-16262ee38c7f</td>\n",
              "      <td>2020-04-09</td>\n",
              "      <td>TARGET DRUG</td>\n",
              "      <td>2020-04</td>\n",
              "    </tr>\n",
              "    <tr>\n",
              "      <th>3296990</th>\n",
              "      <td>a0edaf09-1c7c-11ec-a360-16262ee38c7f</td>\n",
              "      <td>2018-06-12</td>\n",
              "      <td>TARGET DRUG</td>\n",
              "      <td>2018-06</td>\n",
              "    </tr>\n",
              "    <tr>\n",
              "      <th>3305387</th>\n",
              "      <td>a0e9fa0e-1c7c-11ec-8dc7-16262ee38c7f</td>\n",
              "      <td>2019-06-11</td>\n",
              "      <td>TARGET DRUG</td>\n",
              "      <td>2019-06</td>\n",
              "    </tr>\n",
              "    <tr>\n",
              "      <th>3309423</th>\n",
              "      <td>a0ecc615-1c7c-11ec-aa31-16262ee38c7f</td>\n",
              "      <td>2019-11-15</td>\n",
              "      <td>TARGET DRUG</td>\n",
              "      <td>2019-11</td>\n",
              "    </tr>\n",
              "    <tr>\n",
              "      <th>3309494</th>\n",
              "      <td>a0ea612f-1c7c-11ec-8cf0-16262ee38c7f</td>\n",
              "      <td>2020-03-18</td>\n",
              "      <td>TARGET DRUG</td>\n",
              "      <td>2020-03</td>\n",
              "    </tr>\n",
              "    <tr>\n",
              "      <th>...</th>\n",
              "      <td>...</td>\n",
              "      <td>...</td>\n",
              "      <td>...</td>\n",
              "      <td>...</td>\n",
              "    </tr>\n",
              "    <tr>\n",
              "      <th>29074998</th>\n",
              "      <td>a0ef2b6d-1c7c-11ec-9172-16262ee38c7f</td>\n",
              "      <td>2018-10-12</td>\n",
              "      <td>TARGET DRUG</td>\n",
              "      <td>2018-10</td>\n",
              "    </tr>\n",
              "    <tr>\n",
              "      <th>29075105</th>\n",
              "      <td>a0ebe423-1c7c-11ec-a5e0-16262ee38c7f</td>\n",
              "      <td>2019-07-02</td>\n",
              "      <td>TARGET DRUG</td>\n",
              "      <td>2019-07</td>\n",
              "    </tr>\n",
              "    <tr>\n",
              "      <th>29075494</th>\n",
              "      <td>a0ebc713-1c7c-11ec-bd53-16262ee38c7f</td>\n",
              "      <td>2019-05-21</td>\n",
              "      <td>TARGET DRUG</td>\n",
              "      <td>2019-05</td>\n",
              "    </tr>\n",
              "    <tr>\n",
              "      <th>29080031</th>\n",
              "      <td>a0ee1bdb-1c7c-11ec-90ba-16262ee38c7f</td>\n",
              "      <td>2018-06-07</td>\n",
              "      <td>TARGET DRUG</td>\n",
              "      <td>2018-06</td>\n",
              "    </tr>\n",
              "    <tr>\n",
              "      <th>29080178</th>\n",
              "      <td>a0eef180-1c7c-11ec-8de8-16262ee38c7f</td>\n",
              "      <td>2018-07-17</td>\n",
              "      <td>TARGET DRUG</td>\n",
              "      <td>2018-07</td>\n",
              "    </tr>\n",
              "  </tbody>\n",
              "</table>\n",
              "<p>67218 rows × 4 columns</p>\n",
              "</div>\n",
              "      <button class=\"colab-df-convert\" onclick=\"convertToInteractive('df-30565d34-0227-4b19-a7ba-572f2b51c481')\"\n",
              "              title=\"Convert this dataframe to an interactive table.\"\n",
              "              style=\"display:none;\">\n",
              "        \n",
              "  <svg xmlns=\"http://www.w3.org/2000/svg\" height=\"24px\"viewBox=\"0 0 24 24\"\n",
              "       width=\"24px\">\n",
              "    <path d=\"M0 0h24v24H0V0z\" fill=\"none\"/>\n",
              "    <path d=\"M18.56 5.44l.94 2.06.94-2.06 2.06-.94-2.06-.94-.94-2.06-.94 2.06-2.06.94zm-11 1L8.5 8.5l.94-2.06 2.06-.94-2.06-.94L8.5 2.5l-.94 2.06-2.06.94zm10 10l.94 2.06.94-2.06 2.06-.94-2.06-.94-.94-2.06-.94 2.06-2.06.94z\"/><path d=\"M17.41 7.96l-1.37-1.37c-.4-.4-.92-.59-1.43-.59-.52 0-1.04.2-1.43.59L10.3 9.45l-7.72 7.72c-.78.78-.78 2.05 0 2.83L4 21.41c.39.39.9.59 1.41.59.51 0 1.02-.2 1.41-.59l7.78-7.78 2.81-2.81c.8-.78.8-2.07 0-2.86zM5.41 20L4 18.59l7.72-7.72 1.47 1.35L5.41 20z\"/>\n",
              "  </svg>\n",
              "      </button>\n",
              "      \n",
              "  <style>\n",
              "    .colab-df-container {\n",
              "      display:flex;\n",
              "      flex-wrap:wrap;\n",
              "      gap: 12px;\n",
              "    }\n",
              "\n",
              "    .colab-df-convert {\n",
              "      background-color: #E8F0FE;\n",
              "      border: none;\n",
              "      border-radius: 50%;\n",
              "      cursor: pointer;\n",
              "      display: none;\n",
              "      fill: #1967D2;\n",
              "      height: 32px;\n",
              "      padding: 0 0 0 0;\n",
              "      width: 32px;\n",
              "    }\n",
              "\n",
              "    .colab-df-convert:hover {\n",
              "      background-color: #E2EBFA;\n",
              "      box-shadow: 0px 1px 2px rgba(60, 64, 67, 0.3), 0px 1px 3px 1px rgba(60, 64, 67, 0.15);\n",
              "      fill: #174EA6;\n",
              "    }\n",
              "\n",
              "    [theme=dark] .colab-df-convert {\n",
              "      background-color: #3B4455;\n",
              "      fill: #D2E3FC;\n",
              "    }\n",
              "\n",
              "    [theme=dark] .colab-df-convert:hover {\n",
              "      background-color: #434B5C;\n",
              "      box-shadow: 0px 1px 3px 1px rgba(0, 0, 0, 0.15);\n",
              "      filter: drop-shadow(0px 1px 2px rgba(0, 0, 0, 0.3));\n",
              "      fill: #FFFFFF;\n",
              "    }\n",
              "  </style>\n",
              "\n",
              "      <script>\n",
              "        const buttonEl =\n",
              "          document.querySelector('#df-30565d34-0227-4b19-a7ba-572f2b51c481 button.colab-df-convert');\n",
              "        buttonEl.style.display =\n",
              "          google.colab.kernel.accessAllowed ? 'block' : 'none';\n",
              "\n",
              "        async function convertToInteractive(key) {\n",
              "          const element = document.querySelector('#df-30565d34-0227-4b19-a7ba-572f2b51c481');\n",
              "          const dataTable =\n",
              "            await google.colab.kernel.invokeFunction('convertToInteractive',\n",
              "                                                     [key], {});\n",
              "          if (!dataTable) return;\n",
              "\n",
              "          const docLinkHtml = 'Like what you see? Visit the ' +\n",
              "            '<a target=\"_blank\" href=https://colab.research.google.com/notebooks/data_table.ipynb>data table notebook</a>'\n",
              "            + ' to learn more about interactive tables.';\n",
              "          element.innerHTML = '';\n",
              "          dataTable['output_type'] = 'display_data';\n",
              "          await google.colab.output.renderOutput(dataTable, element);\n",
              "          const docLink = document.createElement('div');\n",
              "          docLink.innerHTML = docLinkHtml;\n",
              "          element.appendChild(docLink);\n",
              "        }\n",
              "      </script>\n",
              "    </div>\n",
              "  </div>\n",
              "  "
            ]
          },
          "metadata": {},
          "execution_count": 41
        }
      ]
    },
    {
      "cell_type": "code",
      "source": [
        "# Get the number of patients who started taking the drug each month\n",
        "monthly_starts = train_target.groupby('Month')['Patient-Uid'].nunique()\n",
        "\n",
        "# Get the number of patients who stopped taking the drug each month\n",
        "monthly_stops = monthly_starts.diff().fillna(monthly_starts.iloc[0])\n",
        "\n",
        "# Print the results\n",
        "print(\"Number of patients who started taking the drug each month:\\n\", monthly_starts)\n",
        "print(\"\\nNumber of patients who stopped taking the drug each month:\\n\", monthly_stops)\n",
        "     "
      ],
      "metadata": {
        "colab": {
          "base_uri": "https://localhost:8080/"
        },
        "id": "RlpDiEi3PX-0",
        "outputId": "333166a7-de6b-4aa9-c069-f0be47b48b99"
      },
      "execution_count": null,
      "outputs": [
        {
          "output_type": "stream",
          "name": "stdout",
          "text": [
            "Number of patients who started taking the drug each month:\n",
            " Month\n",
            "2017-02       1\n",
            "2017-03       2\n",
            "2017-04       1\n",
            "2017-05       5\n",
            "2017-06      11\n",
            "2017-07       6\n",
            "2017-08      10\n",
            "2017-09       6\n",
            "2017-10       6\n",
            "2017-11       6\n",
            "2017-12      14\n",
            "2018-01      15\n",
            "2018-02      19\n",
            "2018-03     472\n",
            "2018-04     732\n",
            "2018-05    1042\n",
            "2018-06    1217\n",
            "2018-07    1244\n",
            "2018-08    1522\n",
            "2018-09    1397\n",
            "2018-10    1620\n",
            "2018-11    1661\n",
            "2018-12    1623\n",
            "2019-01    1907\n",
            "2019-02    1596\n",
            "2019-03    1781\n",
            "2019-04    1869\n",
            "2019-05    2207\n",
            "2019-06    2089\n",
            "2019-07    2253\n",
            "2019-08    2457\n",
            "2019-09    2152\n",
            "2019-10    2627\n",
            "2019-11    2383\n",
            "2019-12    2502\n",
            "2020-01    2558\n",
            "2020-02    2517\n",
            "2020-03    2372\n",
            "2020-04    2652\n",
            "2020-05    2728\n",
            "2020-06    2674\n",
            "2020-07    2946\n",
            "2020-08    2383\n",
            "2020-09     384\n",
            "Freq: M, Name: Patient-Uid, dtype: int64\n",
            "\n",
            "Number of patients who stopped taking the drug each month:\n",
            " Month\n",
            "2017-02       1.0\n",
            "2017-03       1.0\n",
            "2017-04      -1.0\n",
            "2017-05       4.0\n",
            "2017-06       6.0\n",
            "2017-07      -5.0\n",
            "2017-08       4.0\n",
            "2017-09      -4.0\n",
            "2017-10       0.0\n",
            "2017-11       0.0\n",
            "2017-12       8.0\n",
            "2018-01       1.0\n",
            "2018-02       4.0\n",
            "2018-03     453.0\n",
            "2018-04     260.0\n",
            "2018-05     310.0\n",
            "2018-06     175.0\n",
            "2018-07      27.0\n",
            "2018-08     278.0\n",
            "2018-09    -125.0\n",
            "2018-10     223.0\n",
            "2018-11      41.0\n",
            "2018-12     -38.0\n",
            "2019-01     284.0\n",
            "2019-02    -311.0\n",
            "2019-03     185.0\n",
            "2019-04      88.0\n",
            "2019-05     338.0\n",
            "2019-06    -118.0\n",
            "2019-07     164.0\n",
            "2019-08     204.0\n",
            "2019-09    -305.0\n",
            "2019-10     475.0\n",
            "2019-11    -244.0\n",
            "2019-12     119.0\n",
            "2020-01      56.0\n",
            "2020-02     -41.0\n",
            "2020-03    -145.0\n",
            "2020-04     280.0\n",
            "2020-05      76.0\n",
            "2020-06     -54.0\n",
            "2020-07     272.0\n",
            "2020-08    -563.0\n",
            "2020-09   -1999.0\n",
            "Freq: M, Name: Patient-Uid, dtype: float64\n"
          ]
        }
      ]
    },
    {
      "cell_type": "code",
      "source": [
        "dropoff_rate = monthly_stops / monthly_starts * 100\n",
        "# convert Period data type to datetime data type\n",
        "dropoff_rate.index = dropoff_rate.index.to_timestamp()\n",
        "\n",
        "# plot the drop-off rate as a line graph\n",
        "plt.plot(dropoff_rate)\n",
        "plt.axhline(y=0, color='black', linestyle='--')\n",
        "plt.xlabel('Month')\n",
        "plt.ylabel('Drop-off rate (%)')\n",
        "plt.title('Monthly Drop-off rate for Target Drug')\n",
        "plt.show()"
      ],
      "metadata": {
        "colab": {
          "base_uri": "https://localhost:8080/"
        },
        "id": "NAtC1J5VPorZ",
        "outputId": "4a02a956-0402-4860-e01c-909bfc244205"
      },
      "execution_count": null,
      "outputs": [
        {
          "output_type": "display_data",
          "data": {
            "text/plain": [
              "<Figure size 640x480 with 1 Axes>"
            ],
            "image/png": "[encoded data removed]"
          },
          "metadata": {}
        }
      ]
    },
    {
      "cell_type": "code",
      "source": [],
      "metadata": {
        "id": "5YxpyJWsQOqx"
      },
      "execution_count": null,
      "outputs": []
    }
  ]
}